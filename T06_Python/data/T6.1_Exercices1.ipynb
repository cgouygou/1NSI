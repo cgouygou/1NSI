{
 "cells": [
  {
   "cell_type": "markdown",
   "metadata": {},
   "source": [
    "# 6.1.1 Variables\n",
    "# Fiche d'exercices\n",
    "\n",
    "Dans (presque) tous les exercices suivants, anticipez la valeur contenue dans chaque variable à la fin du programme. Vérifiez ensuite en exécutant le code (`CTRL+ENTER`)."
   ]
  },
  {
   "cell_type": "markdown",
   "metadata": {},
   "source": [
    "## Exercice 1: affichage"
   ]
  },
  {
   "cell_type": "code",
   "execution_count": null,
   "metadata": {},
   "outputs": [],
   "source": [
    "a = 2\n",
    "b = a + 1\n",
    "a = 5\n",
    "c = 3 * a \n",
    "\n",
    "print(a, b, c)"
   ]
  },
  {
   "cell_type": "markdown",
   "metadata": {},
   "source": [
    "**Remarque:** vous l'aurez compris, la fonction `print` sert à afficher une ou plusieurs variables (ou tout simplement une valeur)... À utiliser avec parcimonie, mais diablement utile pour déboguer un programme. Mais ça, c'est une autre histoire..."
   ]
  },
  {
   "cell_type": "markdown",
   "metadata": {},
   "source": [
    "## Exercice 2: incrémentation"
   ]
  },
  {
   "cell_type": "code",
   "execution_count": null,
   "metadata": {},
   "outputs": [],
   "source": [
    "a = 2\n",
    "a = a + 1\n",
    "a = a + 1\n",
    "a = a + 1\n",
    "\n",
    "print(a)"
   ]
  },
  {
   "cell_type": "markdown",
   "metadata": {},
   "source": [
    "**Remarque:** ajouter 1 (ou un autre valeur entière fixée) à une variable, de façon répétitive, s'appelle **incrémenter** la variable."
   ]
  },
  {
   "cell_type": "markdown",
   "metadata": {},
   "source": [
    "## Exercice 3\n",
    "\n",
    "Dans cet exercice seulement, il ne s'agit pas d'anticiper les valeurs, mais d'écrire le code correspondant aux instructions:\n",
    "\n",
    "1. On initialise une variable ```score``` à 100 puis on l'augmente de 15.\n",
    "2. On initialise une variable ```cellule``` à 1 puis on la multiplie par 2.\n",
    "3. On initialise une variable ```capital``` à 1000 puis on lui enlève 5%."
   ]
  },
  {
   "cell_type": "code",
   "execution_count": null,
   "metadata": {},
   "outputs": [],
   "source": [
    "#1. Écrivez ci-dessous vos deux lignes de code \n",
    "\n",
    "\n",
    "#2. Écrivez ci-dessous vos deux lignes de code\n",
    "\n",
    "\n",
    "#3. Écrivez ci-dessous vos deux lignes de code\n",
    "\n"
   ]
  },
  {
   "cell_type": "markdown",
   "metadata": {},
   "source": [
    "## Exercice 4: échange?"
   ]
  },
  {
   "cell_type": "code",
   "execution_count": null,
   "metadata": {},
   "outputs": [],
   "source": [
    "a = 1\n",
    "b = 2\n",
    "a = b\n",
    "b = a\n",
    "\n",
    "print(a, b)"
   ]
  },
  {
   "attachments": {
    "verres.png": {
     "image/png": "[encoded data removed]"
    }
   },
   "cell_type": "markdown",
   "metadata": {},
   "source": [
    "Comment modifier le code précédent pour vraiment échanger les valeurs des variables `a` et `b`?\n",
    "![verres.png](attachment:verres.png)\n"
   ]
  },
  {
   "cell_type": "markdown",
   "metadata": {},
   "source": [
    "## Exercice 5: opérations\n",
    "\n",
    "Même consigne, avec un peu de calculs. Pour vous aider:\n",
    "\n",
    "| Opérateur | Symbole Python| | Opérateur | Symbole Python| \n",
    "|:---------:|:-------------:| |:---------:|:-------------:|\n",
    "| Addition | `+` |            | Puissance | `**` |\n",
    "| Soustraction | `-` |        | Quotient de la division | `//` |\n",
    "| Multiplication | `*` |    | Reste de la division | `%` |\n",
    "| Division | `/` |            | ||"
   ]
  },
  {
   "cell_type": "code",
   "execution_count": null,
   "metadata": {},
   "outputs": [],
   "source": [
    "a = 2\n",
    "b = 15\n",
    "c = 6\n",
    "d = (b%c) ** 2\n",
    "e = b/c - b//c\n",
    "\n",
    "print(d, e)"
   ]
  },
  {
   "cell_type": "markdown",
   "metadata": {},
   "source": [
    "## Exercice 6: mélange de types...\n",
    "Dans cet exercice, prévoir également le type de la variable."
   ]
  },
  {
   "cell_type": "code",
   "execution_count": null,
   "metadata": {},
   "outputs": [],
   "source": [
    "a = 3 + 2.0\n",
    "b = 6 / 2\n",
    "c = 6 // 2\n",
    "d = 1.5 ** 3\n",
    "e = \"py\" + \"thon\"\n",
    "f = 3 * \"miaou\"\n",
    "g = 2 + \"a\"\n"
   ]
  },
  {
   "cell_type": "markdown",
   "metadata": {},
   "source": [
    "## Exercice 7: commentaires\n",
    "\n",
    "Avec Python, tout ce qui suit le caractère dièse `#` (`ALTGR+3`) n'est pas interprété.\n",
    "On parle de **commentaire**.\n",
    "\n",
    "En programmation, il y a deux usages:\n",
    "\n",
    "- documenter/expliquer son code, pour faciliter la lecture (par soi plus tard, ou par quelquu'un d'autre);\n",
    "- ne pas exécuter des lignes de code sans les supprimer (on pourra les décommenter en supprimant simplement le `#`), notamment en phase de debug.\n"
   ]
  },
  {
   "cell_type": "code",
   "execution_count": null,
   "metadata": {},
   "outputs": [],
   "source": [
    "# L'exécution de ce code va provoquer une erreur.\n",
    "# Essayez de deviner quelle instruction est fautive et commentez la ligne.\n",
    "# Vérifiez en exécutant la cellule\n",
    "\n",
    "lisa = 2\n",
    "marge = 5\n",
    "bart = lisa + 2*marge\n",
    "maggie = bart / (10 - 2*marge)\n",
    "homer = bart * \"D'oh!\"\n"
   ]
  }
 ],
 "metadata": {
  "interpreter": {
   "hash": "916dbcbb3f70747c44a77c7bcd40155683ae19c65e1c03b4aa3499c5328201f1"
  },
  "kernelspec": {
   "display_name": "Python 3",
   "language": "python",
   "name": "python3"
  },
  "language_info": {
   "codemirror_mode": {
    "name": "ipython",
    "version": 3
   },
   "file_extension": ".py",
   "mimetype": "text/x-python",
   "name": "python",
   "nbconvert_exporter": "python",
   "pygments_lexer": "ipython3",
   "version": "3.8.10"
  }
 },
 "nbformat": 4,
 "nbformat_minor": 2
}
