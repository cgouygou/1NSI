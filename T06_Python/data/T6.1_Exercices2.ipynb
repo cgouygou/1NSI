{
 "cells": [
  {
   "cell_type": "markdown",
   "source": [
    "# 6.1.2 Boucle `for`\n",
    "# Fiche d'exercices"
   ],
   "metadata": {}
  },
  {
   "cell_type": "markdown",
   "source": [
    "## Exercice 1\n",
    "On donne une liste d'acteurs. Utilisez cette liste pour produire la sortie suivante:\n",
    "\n",
    "```python\n",
    "Tahar a eu le César du meilleur acteur\n",
    "Omar a eu le César du meilleur acteur\n",
    "Guillaume a eu le César du meilleur acteur\n",
    "Swann a eu le César du meilleur acteur\n",
    "Alex a eu le César du meilleur acteur\n",
    "Roschdy a eu le César du meilleur acteur\n",
    "```\n"
   ],
   "metadata": {}
  },
  {
   "cell_type": "code",
   "execution_count": null,
   "source": [
    "liste_acteurs = ['Tahar', 'Omar', 'Guillaume', 'Swann', 'Alex', 'Roschdy']"
   ],
   "outputs": [],
   "metadata": {}
  },
  {
   "cell_type": "markdown",
   "source": [
    "## Exercice 2\n",
    "Produire la sortie:\n",
    "\n",
    "```\n",
    "IIIIIIIIIIIIIIIIIIIIIIIIIIIIIIIIIIIIIIIIIIIIIIIIIIIIIIIIIIIIIIIIIIIIIIIIIIIIIIII\n",
    "NNNNNNNNNNNNNNNNNNNNNNNNNNNNNNNNNNNNNNNNNNNNNNNNNNNNNNNNNNNNNNNNNNNNNNNNNNNNNNNN\n",
    "FFFFFFFFFFFFFFFFFFFFFFFFFFFFFFFFFFFFFFFFFFFFFFFFFFFFFFFFFFFFFFFFFFFFFFFFFFFFFFFF\n",
    "OOOOOOOOOOOOOOOOOOOOOOOOOOOOOOOOOOOOOOOOOOOOOOOOOOOOOOOOOOOOOOOOOOOOOOOOOOOOOOOO\n",
    "```\n",
    "\n",
    "\n",
    "(il y a 80 caractères par ligne)"
   ],
   "metadata": {}
  },
  {
   "cell_type": "code",
   "execution_count": null,
   "source": [],
   "outputs": [],
   "metadata": {}
  },
  {
   "cell_type": "markdown",
   "source": [
    "## Exercice 3\n",
    "\n",
    "Dans l'extrait de code suivant:\n",
    "\n",
    "- `chaine` est une variable initialisée avec un `str` vide : `\"\"`;\n",
    "- on veut qu'en sortie de programme cette variable contienne la valeur `'aeiouy'`.\n",
    "\n",
    "L'idée est d'ajouter une par une les lettres à la variable `chaine`.\n",
    "\n",
    "Compléter le code."
   ],
   "metadata": {}
  },
  {
   "cell_type": "code",
   "execution_count": null,
   "source": [
    "chaine = \"\"\n",
    "for  in ['a', 'e', 'i', 'o', 'u', 'y']"
   ],
   "outputs": [],
   "metadata": {}
  },
  {
   "cell_type": "markdown",
   "source": [
    "Cette variable `chaine` est appelée un **accumulateur**."
   ],
   "metadata": {}
  },
  {
   "cell_type": "markdown",
   "source": [
    "## Exercice 4\n",
    "\n",
    "En Python, la fonction `ord` renvoie le code Unicode d'un caractère et la fonction `chr` le contraire: elle renvoie le caractère correspondant à un code Unicode.\n",
    "\n",
    "Par exemple:\n"
   ],
   "metadata": {}
  },
  {
   "cell_type": "code",
   "execution_count": null,
   "source": [
    "ord('a')"
   ],
   "outputs": [],
   "metadata": {}
  },
  {
   "cell_type": "code",
   "execution_count": null,
   "source": [
    "chr(97)"
   ],
   "outputs": [],
   "metadata": {}
  },
  {
   "cell_type": "markdown",
   "source": [
    "Voici une liste contenant les codes Unicode des lettres d'un mot secret...\n",
    "À vous d'écrire un programme où en sortie, la variable `mot_secret` contiendra la chaîne de caractères de ce mot.   "
   ],
   "metadata": {}
  },
  {
   "cell_type": "code",
   "execution_count": null,
   "source": [
    "mystere = [111, 107, 44, 32, 98, 105, 101, 110, 32, 106, 111, 117, 233]\n",
    "mot_secret = \"\""
   ],
   "outputs": [],
   "metadata": {}
  },
  {
   "cell_type": "markdown",
   "source": [
    "## Exercice 5\n",
    "\n",
    "Dans la cellule suivante, modifier les paramètres de `range` pour obtenir successivement:\n",
    "\n",
    "1. `[0, 1, 2, 3, 4]`\n",
    "1. `[0, 1, 2, 3, 4, 5, 6, 7, 8, 9, 10 ,11, 12]`\n",
    "1. `[0, 1 ,2, 3, ..., 100]`\n",
    "1. `[1, 2, 3, 4, ...,  50]`\n",
    "1. `[10, 11, 12, 13, 14, 15, 16, 17, 18, 19, 20]`\n",
    "1. `[0, 5, 10, 15, 20, 25, 30]`\n",
    "1. `[10, 12, 14, 16, 18]`\n",
    "2. `[20, 18, 16, 14, 12, 10, 8, 6, 4, 2]`"
   ],
   "metadata": {}
  },
  {
   "cell_type": "code",
   "execution_count": null,
   "source": [
    "list(range())"
   ],
   "outputs": [],
   "metadata": {}
  },
  {
   "cell_type": "markdown",
   "source": [
    "## Exercice 6\n",
    "On souhaite calculer la somme des 1000 premiers nombres entiers naturels, c'est-à-dire:\n",
    "\n",
    "$1+2+3+4+5+ \\dots +999+1000$\n",
    "\n",
    "Écrire un programme avec une variable `somme` **accumulateur** (comme à l'exercice 3) qui contiendra la valeur souhaitée en fin de programme."
   ],
   "metadata": {}
  },
  {
   "cell_type": "code",
   "execution_count": null,
   "source": [],
   "outputs": [],
   "metadata": {}
  },
  {
   "cell_type": "markdown",
   "source": [
    "## Exercice 7\n",
    "\n",
    "Calculer $1\\times 2 \\times 3 \\times \\dots 99 \\times 100$."
   ],
   "metadata": {}
  },
  {
   "cell_type": "code",
   "execution_count": null,
   "source": [],
   "outputs": [],
   "metadata": {}
  },
  {
   "cell_type": "markdown",
   "source": [
    "## Exercice 8\n",
    "\n",
    "Des valeurs sont données dans la liste `nombres`. Écrire un programme qui calcule leur moyenne."
   ],
   "metadata": {}
  },
  {
   "cell_type": "code",
   "execution_count": null,
   "source": [
    "nombres = [15, 8, 12, 19, 10, 17]"
   ],
   "outputs": [],
   "metadata": {}
  },
  {
   "cell_type": "markdown",
   "source": [
    "## Exercice 9\n",
    "\n",
    "Même exercice que le précédent, cette fois-ci:\n",
    "\n",
    "- en demandant le nombre de valeurs à saisir\n",
    "- en saisissant au clavier les valeurs une à une\n",
    "\n",
    "Ne pas hésiter à consulter la page [https://cgouygou.github.io/1NSI/T12_Divers/5Trucs/Trucs/](https://cgouygou.github.io/1NSI/T12_Divers/5Trucs/Trucs/)"
   ],
   "metadata": {}
  },
  {
   "cell_type": "code",
   "execution_count": null,
   "source": [],
   "outputs": [],
   "metadata": {}
  }
 ],
 "metadata": {
  "interpreter": {
   "hash": "916dbcbb3f70747c44a77c7bcd40155683ae19c65e1c03b4aa3499c5328201f1"
  },
  "kernelspec": {
   "name": "python3",
   "display_name": "Python 3.8.10 64-bit"
  },
  "language_info": {
   "codemirror_mode": {
    "name": "ipython",
    "version": 3
   },
   "file_extension": ".py",
   "mimetype": "text/x-python",
   "name": "python",
   "nbconvert_exporter": "python",
   "pygments_lexer": "ipython3",
   "version": "3.8.10"
  }
 },
 "nbformat": 4,
 "nbformat_minor": 2
}