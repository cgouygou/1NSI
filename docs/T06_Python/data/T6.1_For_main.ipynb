{
 "cells": [
  {
   "cell_type": "markdown",
   "metadata": {},
   "source": [
    "# Boucle for"
   ]
  },
  {
   "cell_type": "markdown",
   "metadata": {},
   "source": [
    "## Exercice 1\n",
    "Prévoir l'affichage obtenu après exécution de chacun des programmes suivants:"
   ]
  },
  {
   "cell_type": "code",
   "execution_count": 1,
   "metadata": {},
   "outputs": [
    {
     "name": "stdout",
     "output_type": "stream",
     "text": [
      "PPP\n",
      "YYY\n",
      "TTT\n",
      "HHH\n",
      "OOO\n",
      "NNN\n"
     ]
    }
   ],
   "source": [
    "# Programme 1\n",
    "for lettre in \"PYTHON\":\n",
    "    print(3 * lettre)"
   ]
  },
  {
   "cell_type": "code",
   "execution_count": 2,
   "metadata": {},
   "outputs": [
    {
     "name": "stdout",
     "output_type": "stream",
     "text": [
      "PPP YYY TTT HHH OOO NNN "
     ]
    }
   ],
   "source": [
    "# Programme 2\n",
    "for lettre in \"PYTHON\":\n",
    "    print(3 * lettre, end=\" \")"
   ]
  },
  {
   "cell_type": "code",
   "execution_count": 3,
   "metadata": {},
   "outputs": [
    {
     "name": "stdout",
     "output_type": "stream",
     "text": [
      "X\n",
      "XX\n",
      "XXX\n",
      "XXXX\n",
      "XXXXX\n",
      "XXXXXX\n",
      "XXXXXXX\n",
      "XXXXXXXX\n",
      "XXXXXXXXX\n"
     ]
    }
   ],
   "source": [
    "#Programme 3\n",
    "for k in range(1, 10):\n",
    "    print(k * 'X')"
   ]
  },
  {
   "cell_type": "code",
   "execution_count": 4,
   "metadata": {},
   "outputs": [
    {
     "name": "stdout",
     "output_type": "stream",
     "text": [
      "1 0 0 1 0 1 0 "
     ]
    }
   ],
   "source": [
    "#Programme 4\n",
    "for nombre in [7, 2, 12, 3, 8, 23, 0]:\n",
    "    print(nombre % 2, end = \" \")"
   ]
  },
  {
   "cell_type": "code",
   "execution_count": 5,
   "metadata": {},
   "outputs": [
    {
     "name": "stdout",
     "output_type": "stream",
     "text": [
      "J'adore la programmation!\n",
      "J'adore la programmation!\n",
      "J'adore la programmation!\n"
     ]
    }
   ],
   "source": [
    "#Programme 5\n",
    "for i in range(3):\n",
    "    print(\"J'adore la programmation!\")"
   ]
  },
  {
   "cell_type": "markdown",
   "metadata": {},
   "source": [
    "## Exercice 2\n",
    "Prévoir le contenu de la variable après exécution de chacun des programmes suivants:"
   ]
  },
  {
   "cell_type": "code",
   "execution_count": 6,
   "metadata": {},
   "outputs": [],
   "source": [
    "#Programme 6\n",
    "c = 0\n",
    "for k in range(7):\n",
    "    c = c + k"
   ]
  },
  {
   "cell_type": "code",
   "execution_count": null,
   "metadata": {},
   "outputs": [],
   "source": [
    "#Programme 7\n",
    "toto = 1\n",
    "for n in [2, 3, 5]:\n",
    "    toto = toto * n"
   ]
  },
  {
   "cell_type": "code",
   "execution_count": null,
   "metadata": {},
   "outputs": [],
   "source": [
    "#Programme 8\n",
    "chaine = \"\"\n",
    "for j in range(8):\n",
    "    chaine = chaine + chr(65 + j)"
   ]
  },
  {
   "cell_type": "code",
   "execution_count": 9,
   "metadata": {},
   "outputs": [
    {
     "name": "stdout",
     "output_type": "stream",
     "text": [
      "74\n"
     ]
    }
   ],
   "source": [
    "#Programme 9\n",
    "somme = 0\n",
    "temp = 0\n",
    "for valeur in [7, 2, 12, 3, 8, 23, 0]:\n",
    "    somme = somme + abs(valeur - temp)\n",
    "    temp = valeur\n",
    "\n",
    "print(somme)"
   ]
  }
 ],
 "metadata": {
  "kernelspec": {
   "display_name": "Python 3.10.4 64-bit",
   "language": "python",
   "name": "python3"
  },
  "language_info": {
   "codemirror_mode": {
    "name": "ipython",
    "version": 3
   },
   "file_extension": ".py",
   "mimetype": "text/x-python",
   "name": "python",
   "nbconvert_exporter": "python",
   "pygments_lexer": "ipython3",
   "version": "3.10.4"
  },
  "orig_nbformat": 4,
  "vscode": {
   "interpreter": {
    "hash": "916dbcbb3f70747c44a77c7bcd40155683ae19c65e1c03b4aa3499c5328201f1"
   }
  }
 },
 "nbformat": 4,
 "nbformat_minor": 2
}
